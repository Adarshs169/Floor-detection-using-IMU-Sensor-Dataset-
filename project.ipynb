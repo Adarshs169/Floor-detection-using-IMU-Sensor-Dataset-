{
 "cells": [
  {
   "cell_type": "code",
   "execution_count": 2,
   "metadata": {},
   "outputs": [],
   "source": [
    "import pandas as pd\n",
    "mod=pd.read_csv('mod.csv')\n",
    "mos=pd.read_csv('mosiac.csv')\n",
    "pav=pd.read_csv('pavement.csv')"
   ]
  },
  {
   "cell_type": "code",
   "execution_count": 3,
   "metadata": {},
   "outputs": [
    {
     "data": {
      "text/html": [
       "<div>\n",
       "<style scoped>\n",
       "    .dataframe tbody tr th:only-of-type {\n",
       "        vertical-align: middle;\n",
       "    }\n",
       "\n",
       "    .dataframe tbody tr th {\n",
       "        vertical-align: top;\n",
       "    }\n",
       "\n",
       "    .dataframe thead th {\n",
       "        text-align: right;\n",
       "    }\n",
       "</style>\n",
       "<table border=\"1\" class=\"dataframe\">\n",
       "  <thead>\n",
       "    <tr style=\"text-align: right;\">\n",
       "      <th></th>\n",
       "      <th>slno</th>\n",
       "      <th>gx</th>\n",
       "      <th>gy</th>\n",
       "      <th>gz</th>\n",
       "      <th>ax</th>\n",
       "      <th>ay</th>\n",
       "      <th>az</th>\n",
       "      <th>Unnamed: 7</th>\n",
       "      <th></th>\n",
       "    </tr>\n",
       "  </thead>\n",
       "  <tbody>\n",
       "    <tr>\n",
       "      <th>0</th>\n",
       "      <td>1</td>\n",
       "      <td>0.000000</td>\n",
       "      <td>0.000000</td>\n",
       "      <td>0.297710</td>\n",
       "      <td>0.000000</td>\n",
       "      <td>0.000000</td>\n",
       "      <td>0.000000</td>\n",
       "      <td>NaN</td>\n",
       "      <td>NaN</td>\n",
       "    </tr>\n",
       "    <tr>\n",
       "      <th>1</th>\n",
       "      <td>2</td>\n",
       "      <td>24.106870</td>\n",
       "      <td>14.183206</td>\n",
       "      <td>-15.053435</td>\n",
       "      <td>-1.280029</td>\n",
       "      <td>-0.360352</td>\n",
       "      <td>-0.566895</td>\n",
       "      <td>NaN</td>\n",
       "      <td>NaN</td>\n",
       "    </tr>\n",
       "    <tr>\n",
       "      <th>2</th>\n",
       "      <td>3</td>\n",
       "      <td>0.580153</td>\n",
       "      <td>3.862595</td>\n",
       "      <td>1.068702</td>\n",
       "      <td>-0.280029</td>\n",
       "      <td>-0.268311</td>\n",
       "      <td>-0.601318</td>\n",
       "      <td>NaN</td>\n",
       "      <td>NaN</td>\n",
       "    </tr>\n",
       "    <tr>\n",
       "      <th>3</th>\n",
       "      <td>4</td>\n",
       "      <td>-6.908397</td>\n",
       "      <td>-6.549618</td>\n",
       "      <td>-15.473282</td>\n",
       "      <td>2.000000</td>\n",
       "      <td>-0.548096</td>\n",
       "      <td>0.698975</td>\n",
       "      <td>NaN</td>\n",
       "      <td>NaN</td>\n",
       "    </tr>\n",
       "  </tbody>\n",
       "</table>\n",
       "</div>"
      ],
      "text/plain": [
       "   slno         gx         gy         gz        ax        ay        az  \\\n",
       "0     1   0.000000   0.000000   0.297710  0.000000  0.000000  0.000000   \n",
       "1     2  24.106870  14.183206 -15.053435 -1.280029 -0.360352 -0.566895   \n",
       "2     3   0.580153   3.862595   1.068702 -0.280029 -0.268311 -0.601318   \n",
       "3     4  -6.908397  -6.549618 -15.473282  2.000000 -0.548096  0.698975   \n",
       "\n",
       "   Unnamed: 7  \\t  \n",
       "0         NaN NaN  \n",
       "1         NaN NaN  \n",
       "2         NaN NaN  \n",
       "3         NaN NaN  "
      ]
     },
     "execution_count": 3,
     "metadata": {},
     "output_type": "execute_result"
    }
   ],
   "source": [
    "pav.head(4)"
   ]
  },
  {
   "cell_type": "code",
   "execution_count": 4,
   "metadata": {},
   "outputs": [],
   "source": [
    "pav=pav.iloc[:,:-2]"
   ]
  },
  {
   "cell_type": "code",
   "execution_count": 5,
   "metadata": {},
   "outputs": [
    {
     "data": {
      "text/plain": [
       "1032"
      ]
     },
     "execution_count": 5,
     "metadata": {},
     "output_type": "execute_result"
    }
   ],
   "source": [
    "len(pav)"
   ]
  },
  {
   "cell_type": "code",
   "execution_count": 6,
   "metadata": {},
   "outputs": [
    {
     "data": {
      "text/html": [
       "<div>\n",
       "<style scoped>\n",
       "    .dataframe tbody tr th:only-of-type {\n",
       "        vertical-align: middle;\n",
       "    }\n",
       "\n",
       "    .dataframe tbody tr th {\n",
       "        vertical-align: top;\n",
       "    }\n",
       "\n",
       "    .dataframe thead th {\n",
       "        text-align: right;\n",
       "    }\n",
       "</style>\n",
       "<table border=\"1\" class=\"dataframe\">\n",
       "  <thead>\n",
       "    <tr style=\"text-align: right;\">\n",
       "      <th></th>\n",
       "      <th>slno</th>\n",
       "      <th>gx</th>\n",
       "      <th>gy</th>\n",
       "      <th>gz</th>\n",
       "      <th>ax</th>\n",
       "      <th>ay</th>\n",
       "      <th>az</th>\n",
       "    </tr>\n",
       "  </thead>\n",
       "  <tbody>\n",
       "    <tr>\n",
       "      <th>0</th>\n",
       "      <td>1</td>\n",
       "      <td>0.000000</td>\n",
       "      <td>0.000000</td>\n",
       "      <td>0.297710</td>\n",
       "      <td>0.000000</td>\n",
       "      <td>0.000000</td>\n",
       "      <td>0.000000</td>\n",
       "    </tr>\n",
       "    <tr>\n",
       "      <th>1</th>\n",
       "      <td>2</td>\n",
       "      <td>24.106870</td>\n",
       "      <td>14.183206</td>\n",
       "      <td>-15.053435</td>\n",
       "      <td>-1.280029</td>\n",
       "      <td>-0.360352</td>\n",
       "      <td>-0.566895</td>\n",
       "    </tr>\n",
       "    <tr>\n",
       "      <th>2</th>\n",
       "      <td>3</td>\n",
       "      <td>0.580153</td>\n",
       "      <td>3.862595</td>\n",
       "      <td>1.068702</td>\n",
       "      <td>-0.280029</td>\n",
       "      <td>-0.268311</td>\n",
       "      <td>-0.601318</td>\n",
       "    </tr>\n",
       "    <tr>\n",
       "      <th>3</th>\n",
       "      <td>4</td>\n",
       "      <td>-6.908397</td>\n",
       "      <td>-6.549618</td>\n",
       "      <td>-15.473282</td>\n",
       "      <td>2.000000</td>\n",
       "      <td>-0.548096</td>\n",
       "      <td>0.698975</td>\n",
       "    </tr>\n",
       "    <tr>\n",
       "      <th>4</th>\n",
       "      <td>5</td>\n",
       "      <td>6.694656</td>\n",
       "      <td>-5.572519</td>\n",
       "      <td>4.015267</td>\n",
       "      <td>-0.899170</td>\n",
       "      <td>-0.072754</td>\n",
       "      <td>-0.063477</td>\n",
       "    </tr>\n",
       "  </tbody>\n",
       "</table>\n",
       "</div>"
      ],
      "text/plain": [
       "   slno         gx         gy         gz        ax        ay        az\n",
       "0     1   0.000000   0.000000   0.297710  0.000000  0.000000  0.000000\n",
       "1     2  24.106870  14.183206 -15.053435 -1.280029 -0.360352 -0.566895\n",
       "2     3   0.580153   3.862595   1.068702 -0.280029 -0.268311 -0.601318\n",
       "3     4  -6.908397  -6.549618 -15.473282  2.000000 -0.548096  0.698975\n",
       "4     5   6.694656  -5.572519   4.015267 -0.899170 -0.072754 -0.063477"
      ]
     },
     "execution_count": 6,
     "metadata": {},
     "output_type": "execute_result"
    }
   ],
   "source": [
    "pav.head()"
   ]
  },
  {
   "cell_type": "code",
   "execution_count": 7,
   "metadata": {},
   "outputs": [
    {
     "data": {
      "text/html": [
       "<div>\n",
       "<style scoped>\n",
       "    .dataframe tbody tr th:only-of-type {\n",
       "        vertical-align: middle;\n",
       "    }\n",
       "\n",
       "    .dataframe tbody tr th {\n",
       "        vertical-align: top;\n",
       "    }\n",
       "\n",
       "    .dataframe thead th {\n",
       "        text-align: right;\n",
       "    }\n",
       "</style>\n",
       "<table border=\"1\" class=\"dataframe\">\n",
       "  <thead>\n",
       "    <tr style=\"text-align: right;\">\n",
       "      <th></th>\n",
       "      <th>slno</th>\n",
       "      <th>gx</th>\n",
       "      <th>gy</th>\n",
       "      <th>gz</th>\n",
       "      <th>ax</th>\n",
       "      <th>ay</th>\n",
       "      <th>az</th>\n",
       "    </tr>\n",
       "  </thead>\n",
       "  <tbody>\n",
       "    <tr>\n",
       "      <th>0</th>\n",
       "      <td>1</td>\n",
       "      <td>-0.167939</td>\n",
       "      <td>0.206107</td>\n",
       "      <td>0.206107</td>\n",
       "      <td>-0.899902</td>\n",
       "      <td>-0.270264</td>\n",
       "      <td>0.209961</td>\n",
       "    </tr>\n",
       "    <tr>\n",
       "      <th>1</th>\n",
       "      <td>2</td>\n",
       "      <td>-0.122137</td>\n",
       "      <td>0.274809</td>\n",
       "      <td>-1.160305</td>\n",
       "      <td>-0.774170</td>\n",
       "      <td>-0.340576</td>\n",
       "      <td>-0.606445</td>\n",
       "    </tr>\n",
       "    <tr>\n",
       "      <th>2</th>\n",
       "      <td>3</td>\n",
       "      <td>0.015267</td>\n",
       "      <td>3.694656</td>\n",
       "      <td>-0.236641</td>\n",
       "      <td>-0.740967</td>\n",
       "      <td>-0.144775</td>\n",
       "      <td>0.436035</td>\n",
       "    </tr>\n",
       "    <tr>\n",
       "      <th>3</th>\n",
       "      <td>4</td>\n",
       "      <td>3.053435</td>\n",
       "      <td>1.526718</td>\n",
       "      <td>-0.847328</td>\n",
       "      <td>-0.480225</td>\n",
       "      <td>-0.586914</td>\n",
       "      <td>0.008057</td>\n",
       "    </tr>\n",
       "    <tr>\n",
       "      <th>4</th>\n",
       "      <td>5</td>\n",
       "      <td>0.175573</td>\n",
       "      <td>-0.435115</td>\n",
       "      <td>0.038168</td>\n",
       "      <td>-0.952637</td>\n",
       "      <td>-0.051025</td>\n",
       "      <td>-0.088867</td>\n",
       "    </tr>\n",
       "  </tbody>\n",
       "</table>\n",
       "</div>"
      ],
      "text/plain": [
       "   slno        gx        gy        gz        ax        ay        az\n",
       "0     1 -0.167939  0.206107  0.206107 -0.899902 -0.270264  0.209961\n",
       "1     2 -0.122137  0.274809 -1.160305 -0.774170 -0.340576 -0.606445\n",
       "2     3  0.015267  3.694656 -0.236641 -0.740967 -0.144775  0.436035\n",
       "3     4  3.053435  1.526718 -0.847328 -0.480225 -0.586914  0.008057\n",
       "4     5  0.175573 -0.435115  0.038168 -0.952637 -0.051025 -0.088867"
      ]
     },
     "execution_count": 7,
     "metadata": {},
     "output_type": "execute_result"
    }
   ],
   "source": [
    "mos=mos.iloc[:,:-2]\n",
    "mos.head()"
   ]
  },
  {
   "cell_type": "code",
   "execution_count": 8,
   "metadata": {},
   "outputs": [
    {
     "data": {
      "text/html": [
       "<div>\n",
       "<style scoped>\n",
       "    .dataframe tbody tr th:only-of-type {\n",
       "        vertical-align: middle;\n",
       "    }\n",
       "\n",
       "    .dataframe tbody tr th {\n",
       "        vertical-align: top;\n",
       "    }\n",
       "\n",
       "    .dataframe thead th {\n",
       "        text-align: right;\n",
       "    }\n",
       "</style>\n",
       "<table border=\"1\" class=\"dataframe\">\n",
       "  <thead>\n",
       "    <tr style=\"text-align: right;\">\n",
       "      <th></th>\n",
       "      <th>slno</th>\n",
       "      <th>gx</th>\n",
       "      <th>gy</th>\n",
       "      <th>gz</th>\n",
       "      <th>ax</th>\n",
       "      <th>ay</th>\n",
       "      <th>az</th>\n",
       "    </tr>\n",
       "  </thead>\n",
       "  <tbody>\n",
       "    <tr>\n",
       "      <th>0</th>\n",
       "      <td>1</td>\n",
       "      <td>0.000000</td>\n",
       "      <td>0.000000</td>\n",
       "      <td>0.297710</td>\n",
       "      <td>0.000000</td>\n",
       "      <td>0.000000</td>\n",
       "      <td>0.000000</td>\n",
       "    </tr>\n",
       "    <tr>\n",
       "      <th>1</th>\n",
       "      <td>2</td>\n",
       "      <td>24.106870</td>\n",
       "      <td>14.183206</td>\n",
       "      <td>-15.053435</td>\n",
       "      <td>-1.280029</td>\n",
       "      <td>-0.360352</td>\n",
       "      <td>-0.566895</td>\n",
       "    </tr>\n",
       "    <tr>\n",
       "      <th>2</th>\n",
       "      <td>3</td>\n",
       "      <td>0.580153</td>\n",
       "      <td>3.862595</td>\n",
       "      <td>1.068702</td>\n",
       "      <td>-0.280029</td>\n",
       "      <td>-0.268311</td>\n",
       "      <td>-0.601318</td>\n",
       "    </tr>\n",
       "    <tr>\n",
       "      <th>3</th>\n",
       "      <td>4</td>\n",
       "      <td>-6.908397</td>\n",
       "      <td>-6.549618</td>\n",
       "      <td>-15.473282</td>\n",
       "      <td>2.000000</td>\n",
       "      <td>-0.548096</td>\n",
       "      <td>0.698975</td>\n",
       "    </tr>\n",
       "    <tr>\n",
       "      <th>4</th>\n",
       "      <td>5</td>\n",
       "      <td>6.694656</td>\n",
       "      <td>-5.572519</td>\n",
       "      <td>4.015267</td>\n",
       "      <td>-0.899170</td>\n",
       "      <td>-0.072754</td>\n",
       "      <td>-0.063477</td>\n",
       "    </tr>\n",
       "  </tbody>\n",
       "</table>\n",
       "</div>"
      ],
      "text/plain": [
       "   slno         gx         gy         gz        ax        ay        az\n",
       "0     1   0.000000   0.000000   0.297710  0.000000  0.000000  0.000000\n",
       "1     2  24.106870  14.183206 -15.053435 -1.280029 -0.360352 -0.566895\n",
       "2     3   0.580153   3.862595   1.068702 -0.280029 -0.268311 -0.601318\n",
       "3     4  -6.908397  -6.549618 -15.473282  2.000000 -0.548096  0.698975\n",
       "4     5   6.694656  -5.572519   4.015267 -0.899170 -0.072754 -0.063477"
      ]
     },
     "execution_count": 8,
     "metadata": {},
     "output_type": "execute_result"
    }
   ],
   "source": [
    "pav.head()\n"
   ]
  },
  {
   "cell_type": "code",
   "execution_count": 9,
   "metadata": {},
   "outputs": [
    {
     "data": {
      "text/html": [
       "<div>\n",
       "<style scoped>\n",
       "    .dataframe tbody tr th:only-of-type {\n",
       "        vertical-align: middle;\n",
       "    }\n",
       "\n",
       "    .dataframe tbody tr th {\n",
       "        vertical-align: top;\n",
       "    }\n",
       "\n",
       "    .dataframe thead th {\n",
       "        text-align: right;\n",
       "    }\n",
       "</style>\n",
       "<table border=\"1\" class=\"dataframe\">\n",
       "  <thead>\n",
       "    <tr style=\"text-align: right;\">\n",
       "      <th></th>\n",
       "      <th>slno</th>\n",
       "      <th>gx</th>\n",
       "      <th>gy</th>\n",
       "      <th>gz</th>\n",
       "      <th>ax</th>\n",
       "      <th>ay</th>\n",
       "      <th>az</th>\n",
       "    </tr>\n",
       "  </thead>\n",
       "  <tbody>\n",
       "    <tr>\n",
       "      <th>0</th>\n",
       "      <td>1</td>\n",
       "      <td>-2.854962</td>\n",
       "      <td>3.030534</td>\n",
       "      <td>10.923664</td>\n",
       "      <td>-0.952393</td>\n",
       "      <td>-0.872803</td>\n",
       "      <td>0.153564</td>\n",
       "    </tr>\n",
       "    <tr>\n",
       "      <th>1</th>\n",
       "      <td>2</td>\n",
       "      <td>-3.656489</td>\n",
       "      <td>-11.534351</td>\n",
       "      <td>7.038168</td>\n",
       "      <td>0.137695</td>\n",
       "      <td>0.007812</td>\n",
       "      <td>0.089111</td>\n",
       "    </tr>\n",
       "    <tr>\n",
       "      <th>2</th>\n",
       "      <td>3</td>\n",
       "      <td>1.526718</td>\n",
       "      <td>1.511450</td>\n",
       "      <td>0.603053</td>\n",
       "      <td>0.109375</td>\n",
       "      <td>-1.375000</td>\n",
       "      <td>-1.187988</td>\n",
       "    </tr>\n",
       "    <tr>\n",
       "      <th>3</th>\n",
       "      <td>4</td>\n",
       "      <td>-0.488550</td>\n",
       "      <td>16.801527</td>\n",
       "      <td>-23.007634</td>\n",
       "      <td>-0.055420</td>\n",
       "      <td>-0.681152</td>\n",
       "      <td>-0.004150</td>\n",
       "    </tr>\n",
       "  </tbody>\n",
       "</table>\n",
       "</div>"
      ],
      "text/plain": [
       "   slno        gx         gy         gz        ax        ay        az\n",
       "0     1 -2.854962   3.030534  10.923664 -0.952393 -0.872803  0.153564\n",
       "1     2 -3.656489 -11.534351   7.038168  0.137695  0.007812  0.089111\n",
       "2     3  1.526718   1.511450   0.603053  0.109375 -1.375000 -1.187988\n",
       "3     4 -0.488550  16.801527 -23.007634 -0.055420 -0.681152 -0.004150"
      ]
     },
     "execution_count": 9,
     "metadata": {},
     "output_type": "execute_result"
    }
   ],
   "source": [
    "mod.head(4)"
   ]
  },
  {
   "cell_type": "code",
   "execution_count": 10,
   "metadata": {},
   "outputs": [],
   "source": [
    "l1=list()\n",
    "for i in range(len(mod)):\n",
    "    l1.append('moderate')"
   ]
  },
  {
   "cell_type": "code",
   "execution_count": 11,
   "metadata": {},
   "outputs": [],
   "source": [
    "mod['floor']=l1"
   ]
  },
  {
   "cell_type": "code",
   "execution_count": 12,
   "metadata": {},
   "outputs": [],
   "source": [
    "l2=list()\n",
    "for i in range(len(mos)):\n",
    "    l2.append('mosiac')\n",
    "mos['floor']=l2"
   ]
  },
  {
   "cell_type": "code",
   "execution_count": 13,
   "metadata": {},
   "outputs": [],
   "source": [
    "l3=list()\n",
    "for i in range(len(pav)):\n",
    "    l3.append('pavement')\n",
    "pav['floor']=l3"
   ]
  },
  {
   "cell_type": "code",
   "execution_count": 14,
   "metadata": {},
   "outputs": [
    {
     "data": {
      "text/html": [
       "<div>\n",
       "<style scoped>\n",
       "    .dataframe tbody tr th:only-of-type {\n",
       "        vertical-align: middle;\n",
       "    }\n",
       "\n",
       "    .dataframe tbody tr th {\n",
       "        vertical-align: top;\n",
       "    }\n",
       "\n",
       "    .dataframe thead th {\n",
       "        text-align: right;\n",
       "    }\n",
       "</style>\n",
       "<table border=\"1\" class=\"dataframe\">\n",
       "  <thead>\n",
       "    <tr style=\"text-align: right;\">\n",
       "      <th></th>\n",
       "      <th>slno</th>\n",
       "      <th>gx</th>\n",
       "      <th>gy</th>\n",
       "      <th>gz</th>\n",
       "      <th>ax</th>\n",
       "      <th>ay</th>\n",
       "      <th>az</th>\n",
       "      <th>floor</th>\n",
       "    </tr>\n",
       "  </thead>\n",
       "  <tbody>\n",
       "    <tr>\n",
       "      <th>0</th>\n",
       "      <td>1</td>\n",
       "      <td>0.00000</td>\n",
       "      <td>0.000000</td>\n",
       "      <td>0.297710</td>\n",
       "      <td>0.000000</td>\n",
       "      <td>0.000000</td>\n",
       "      <td>0.000000</td>\n",
       "      <td>pavement</td>\n",
       "    </tr>\n",
       "    <tr>\n",
       "      <th>1</th>\n",
       "      <td>2</td>\n",
       "      <td>24.10687</td>\n",
       "      <td>14.183206</td>\n",
       "      <td>-15.053435</td>\n",
       "      <td>-1.280029</td>\n",
       "      <td>-0.360352</td>\n",
       "      <td>-0.566895</td>\n",
       "      <td>pavement</td>\n",
       "    </tr>\n",
       "  </tbody>\n",
       "</table>\n",
       "</div>"
      ],
      "text/plain": [
       "   slno        gx         gy         gz        ax        ay        az  \\\n",
       "0     1   0.00000   0.000000   0.297710  0.000000  0.000000  0.000000   \n",
       "1     2  24.10687  14.183206 -15.053435 -1.280029 -0.360352 -0.566895   \n",
       "\n",
       "      floor  \n",
       "0  pavement  \n",
       "1  pavement  "
      ]
     },
     "execution_count": 14,
     "metadata": {},
     "output_type": "execute_result"
    }
   ],
   "source": [
    "pav.head(2)"
   ]
  },
  {
   "cell_type": "code",
   "execution_count": 15,
   "metadata": {},
   "outputs": [],
   "source": [
    "mod=mod.iloc[:,1:]\n",
    "mos=mos.iloc[:,1:]\n",
    "pav=pav.iloc[:,1:]"
   ]
  },
  {
   "cell_type": "code",
   "execution_count": 16,
   "metadata": {},
   "outputs": [],
   "source": [
    "pav.columns=['gx','gy','gz','ax','ay','az','floor']\n",
    "mos.columns=['gx','gy','gz','ax','ay','az','floor']"
   ]
  },
  {
   "cell_type": "code",
   "execution_count": 17,
   "metadata": {},
   "outputs": [],
   "source": [
    "data1=pd.concat([pav,mos],ignore_index=True)"
   ]
  },
  {
   "cell_type": "code",
   "execution_count": 18,
   "metadata": {},
   "outputs": [],
   "source": [
    "dataset=pd.concat([mod,data1],ignore_index=True)"
   ]
  },
  {
   "cell_type": "code",
   "execution_count": 19,
   "metadata": {},
   "outputs": [
    {
     "data": {
      "text/html": [
       "<div>\n",
       "<style scoped>\n",
       "    .dataframe tbody tr th:only-of-type {\n",
       "        vertical-align: middle;\n",
       "    }\n",
       "\n",
       "    .dataframe tbody tr th {\n",
       "        vertical-align: top;\n",
       "    }\n",
       "\n",
       "    .dataframe thead th {\n",
       "        text-align: right;\n",
       "    }\n",
       "</style>\n",
       "<table border=\"1\" class=\"dataframe\">\n",
       "  <thead>\n",
       "    <tr style=\"text-align: right;\">\n",
       "      <th></th>\n",
       "      <th>gx</th>\n",
       "      <th>gy</th>\n",
       "      <th>gz</th>\n",
       "      <th>ax</th>\n",
       "      <th>ay</th>\n",
       "      <th>az</th>\n",
       "      <th>floor</th>\n",
       "    </tr>\n",
       "  </thead>\n",
       "  <tbody>\n",
       "    <tr>\n",
       "      <th>0</th>\n",
       "      <td>-2.854962</td>\n",
       "      <td>3.030534</td>\n",
       "      <td>10.923664</td>\n",
       "      <td>-0.952393</td>\n",
       "      <td>-0.872803</td>\n",
       "      <td>0.153564</td>\n",
       "      <td>moderate</td>\n",
       "    </tr>\n",
       "    <tr>\n",
       "      <th>1</th>\n",
       "      <td>-3.656489</td>\n",
       "      <td>-11.534351</td>\n",
       "      <td>7.038168</td>\n",
       "      <td>0.137695</td>\n",
       "      <td>0.007812</td>\n",
       "      <td>0.089111</td>\n",
       "      <td>moderate</td>\n",
       "    </tr>\n",
       "  </tbody>\n",
       "</table>\n",
       "</div>"
      ],
      "text/plain": [
       "         gx         gy         gz        ax        ay        az     floor\n",
       "0 -2.854962   3.030534  10.923664 -0.952393 -0.872803  0.153564  moderate\n",
       "1 -3.656489 -11.534351   7.038168  0.137695  0.007812  0.089111  moderate"
      ]
     },
     "execution_count": 19,
     "metadata": {},
     "output_type": "execute_result"
    }
   ],
   "source": [
    "dataset.head(2)"
   ]
  },
  {
   "cell_type": "code",
   "execution_count": 57,
   "metadata": {},
   "outputs": [
    {
     "data": {
      "text/plain": [
       "<matplotlib.axes._subplots.AxesSubplot at 0x1b72773aa90>"
      ]
     },
     "execution_count": 57,
     "metadata": {},
     "output_type": "execute_result"
    },
    {
     "data": {
      "image/png": "[encoded data removed]",
      "text/plain": [
       "<Figure size 432x288 with 1 Axes>"
      ]
     },
     "metadata": {
      "needs_background": "light"
     },
     "output_type": "display_data"
    }
   ],
   "source": [
    "pd.value_counts(dataset['floor']).plot(kind='barh')"
   ]
  },
  {
   "cell_type": "code",
   "execution_count": 21,
   "metadata": {},
   "outputs": [],
   "source": [
    "from sklearn.preprocessing import LabelEncoder"
   ]
  },
  {
   "cell_type": "code",
   "execution_count": 22,
   "metadata": {},
   "outputs": [],
   "source": [
    "lb=LabelEncoder()\n",
    "dataset['floor']=lb.fit_transform(dataset['floor'])"
   ]
  },
  {
   "cell_type": "code",
   "execution_count": 23,
   "metadata": {},
   "outputs": [
    {
     "data": {
      "text/plain": [
       "array([0, 2, 1], dtype=int64)"
      ]
     },
     "execution_count": 23,
     "metadata": {},
     "output_type": "execute_result"
    }
   ],
   "source": [
    "dataset['floor'].unique()"
   ]
  },
  {
   "cell_type": "code",
   "execution_count": 24,
   "metadata": {},
   "outputs": [],
   "source": [
    "import matplotlib.pyplot as plt"
   ]
  },
  {
   "cell_type": "code",
   "execution_count": 25,
   "metadata": {},
   "outputs": [
    {
     "data": {
      "image/png": "[encoded data removed]",
      "text/plain": [
       "<Figure size 432x288 with 1 Axes>"
      ]
     },
     "metadata": {
      "needs_background": "light"
     },
     "output_type": "display_data"
    }
   ],
   "source": [
    "plt.xlabel('ax')\n",
    "plt.ylabel('ay')\n",
    "plt.title('Floor 0')\n",
    "plt.scatter(dataset[dataset['floor']==0]['ax'],dataset[dataset['floor']==0]['ay'])\n",
    "plt.show()"
   ]
  },
  {
   "cell_type": "code",
   "execution_count": 26,
   "metadata": {},
   "outputs": [
    {
     "data": {
      "image/png": "[encoded data removed]",
      "text/plain": [
       "<Figure size 432x288 with 1 Axes>"
      ]
     },
     "metadata": {
      "needs_background": "light"
     },
     "output_type": "display_data"
    }
   ],
   "source": [
    "plt.xlabel('ax')\n",
    "plt.ylabel('ay')\n",
    "plt.title('Floor 1')\n",
    "plt.scatter(dataset[dataset['floor']==1]['ax'],dataset[dataset['floor']==1]['ay'])\n",
    "plt.show()"
   ]
  },
  {
   "cell_type": "code",
   "execution_count": 27,
   "metadata": {},
   "outputs": [
    {
     "data": {
      "image/png": "[encoded data removed]",
      "text/plain": [
       "<Figure size 432x288 with 1 Axes>"
      ]
     },
     "metadata": {
      "needs_background": "light"
     },
     "output_type": "display_data"
    }
   ],
   "source": [
    "plt.xlabel('ax')\n",
    "plt.ylabel('ay')\n",
    "plt.title('Floor 2')\n",
    "plt.scatter(dataset[dataset['floor']==2]['ax'],dataset[dataset['floor']==2]['ay'])\n",
    "plt.show()"
   ]
  },
  {
   "cell_type": "code",
   "execution_count": 28,
   "metadata": {},
   "outputs": [
    {
     "data": {
      "image/png": "[encoded data removed]",
      "text/plain": [
       "<Figure size 432x288 with 1 Axes>"
      ]
     },
     "metadata": {
      "needs_background": "light"
     },
     "output_type": "display_data"
    }
   ],
   "source": [
    "plt.xlabel('ax')\n",
    "plt.ylabel('ay')\n",
    "plt.title('Floor 2')\n",
    "plt.scatter(dataset[dataset['floor']==2]['ax'],dataset[dataset['floor']==2]['ay'])\n",
    "plt.show()"
   ]
  },
  {
   "cell_type": "code",
   "execution_count": 29,
   "metadata": {},
   "outputs": [],
   "source": [
    "from sklearn.feature_selection import SelectKBest,chi2,f_classif"
   ]
  },
  {
   "cell_type": "code",
   "execution_count": 30,
   "metadata": {},
   "outputs": [],
   "source": [
    "corr=dataset.corr()"
   ]
  },
  {
   "cell_type": "code",
   "execution_count": 31,
   "metadata": {},
   "outputs": [
    {
     "data": {
      "text/html": [
       "<style  type=\"text/css\" >\n",
       "    #T_b02cc740_e1c2_11ea_b4dc_dff9dccc303crow0_col0 {\n",
       "            background-color:  #b40426;\n",
       "        }    #T_b02cc740_e1c2_11ea_b4dc_dff9dccc303crow0_col1 {\n",
       "            background-color:  #3b4cc0;\n",
       "        }    #T_b02cc740_e1c2_11ea_b4dc_dff9dccc303crow0_col2 {\n",
       "            background-color:  #3f53c6;\n",
       "        }    #T_b02cc740_e1c2_11ea_b4dc_dff9dccc303crow0_col3 {\n",
       "            background-color:  #4a63d3;\n",
       "        }    #T_b02cc740_e1c2_11ea_b4dc_dff9dccc303crow0_col4 {\n",
       "            background-color:  #3b4cc0;\n",
       "        }    #T_b02cc740_e1c2_11ea_b4dc_dff9dccc303crow0_col5 {\n",
       "            background-color:  #3b4cc0;\n",
       "        }    #T_b02cc740_e1c2_11ea_b4dc_dff9dccc303crow0_col6 {\n",
       "            background-color:  #7295f4;\n",
       "        }    #T_b02cc740_e1c2_11ea_b4dc_dff9dccc303crow1_col0 {\n",
       "            background-color:  #445acc;\n",
       "        }    #T_b02cc740_e1c2_11ea_b4dc_dff9dccc303crow1_col1 {\n",
       "            background-color:  #b40426;\n",
       "        }    #T_b02cc740_e1c2_11ea_b4dc_dff9dccc303crow1_col2 {\n",
       "            background-color:  #3b4cc0;\n",
       "        }    #T_b02cc740_e1c2_11ea_b4dc_dff9dccc303crow1_col3 {\n",
       "            background-color:  #3b4cc0;\n",
       "        }    #T_b02cc740_e1c2_11ea_b4dc_dff9dccc303crow1_col4 {\n",
       "            background-color:  #4c66d6;\n",
       "        }    #T_b02cc740_e1c2_11ea_b4dc_dff9dccc303crow1_col5 {\n",
       "            background-color:  #5977e3;\n",
       "        }    #T_b02cc740_e1c2_11ea_b4dc_dff9dccc303crow1_col6 {\n",
       "            background-color:  #6c8ff1;\n",
       "        }    #T_b02cc740_e1c2_11ea_b4dc_dff9dccc303crow2_col0 {\n",
       "            background-color:  #516ddb;\n",
       "        }    #T_b02cc740_e1c2_11ea_b4dc_dff9dccc303crow2_col1 {\n",
       "            background-color:  #4358cb;\n",
       "        }    #T_b02cc740_e1c2_11ea_b4dc_dff9dccc303crow2_col2 {\n",
       "            background-color:  #b40426;\n",
       "        }    #T_b02cc740_e1c2_11ea_b4dc_dff9dccc303crow2_col3 {\n",
       "            background-color:  #4e68d8;\n",
       "        }    #T_b02cc740_e1c2_11ea_b4dc_dff9dccc303crow2_col4 {\n",
       "            background-color:  #536edd;\n",
       "        }    #T_b02cc740_e1c2_11ea_b4dc_dff9dccc303crow2_col5 {\n",
       "            background-color:  #6a8bef;\n",
       "        }    #T_b02cc740_e1c2_11ea_b4dc_dff9dccc303crow2_col6 {\n",
       "            background-color:  #6485ec;\n",
       "        }    #T_b02cc740_e1c2_11ea_b4dc_dff9dccc303crow3_col0 {\n",
       "            background-color:  #7093f3;\n",
       "        }    #T_b02cc740_e1c2_11ea_b4dc_dff9dccc303crow3_col1 {\n",
       "            background-color:  #5875e1;\n",
       "        }    #T_b02cc740_e1c2_11ea_b4dc_dff9dccc303crow3_col2 {\n",
       "            background-color:  #6282ea;\n",
       "        }    #T_b02cc740_e1c2_11ea_b4dc_dff9dccc303crow3_col3 {\n",
       "            background-color:  #b40426;\n",
       "        }    #T_b02cc740_e1c2_11ea_b4dc_dff9dccc303crow3_col4 {\n",
       "            background-color:  #5470de;\n",
       "        }    #T_b02cc740_e1c2_11ea_b4dc_dff9dccc303crow3_col5 {\n",
       "            background-color:  #688aef;\n",
       "        }    #T_b02cc740_e1c2_11ea_b4dc_dff9dccc303crow3_col6 {\n",
       "            background-color:  #5f7fe8;\n",
       "        }    #T_b02cc740_e1c2_11ea_b4dc_dff9dccc303crow4_col0 {\n",
       "            background-color:  #5b7ae5;\n",
       "        }    #T_b02cc740_e1c2_11ea_b4dc_dff9dccc303crow4_col1 {\n",
       "            background-color:  #6485ec;\n",
       "        }    #T_b02cc740_e1c2_11ea_b4dc_dff9dccc303crow4_col2 {\n",
       "            background-color:  #6282ea;\n",
       "        }    #T_b02cc740_e1c2_11ea_b4dc_dff9dccc303crow4_col3 {\n",
       "            background-color:  #4f69d9;\n",
       "        }    #T_b02cc740_e1c2_11ea_b4dc_dff9dccc303crow4_col4 {\n",
       "            background-color:  #b40426;\n",
       "        }    #T_b02cc740_e1c2_11ea_b4dc_dff9dccc303crow4_col5 {\n",
       "            background-color:  #7da0f9;\n",
       "        }    #T_b02cc740_e1c2_11ea_b4dc_dff9dccc303crow4_col6 {\n",
       "            background-color:  #5d7ce6;\n",
       "        }    #T_b02cc740_e1c2_11ea_b4dc_dff9dccc303crow5_col0 {\n",
       "            background-color:  #3b4cc0;\n",
       "        }    #T_b02cc740_e1c2_11ea_b4dc_dff9dccc303crow5_col1 {\n",
       "            background-color:  #4f69d9;\n",
       "        }    #T_b02cc740_e1c2_11ea_b4dc_dff9dccc303crow5_col2 {\n",
       "            background-color:  #5875e1;\n",
       "        }    #T_b02cc740_e1c2_11ea_b4dc_dff9dccc303crow5_col3 {\n",
       "            background-color:  #4055c8;\n",
       "        }    #T_b02cc740_e1c2_11ea_b4dc_dff9dccc303crow5_col4 {\n",
       "            background-color:  #5d7ce6;\n",
       "        }    #T_b02cc740_e1c2_11ea_b4dc_dff9dccc303crow5_col5 {\n",
       "            background-color:  #b40426;\n",
       "        }    #T_b02cc740_e1c2_11ea_b4dc_dff9dccc303crow5_col6 {\n",
       "            background-color:  #3b4cc0;\n",
       "        }    #T_b02cc740_e1c2_11ea_b4dc_dff9dccc303crow6_col0 {\n",
       "            background-color:  #7597f6;\n",
       "        }    #T_b02cc740_e1c2_11ea_b4dc_dff9dccc303crow6_col1 {\n",
       "            background-color:  #6687ed;\n",
       "        }    #T_b02cc740_e1c2_11ea_b4dc_dff9dccc303crow6_col2 {\n",
       "            background-color:  #5572df;\n",
       "        }    #T_b02cc740_e1c2_11ea_b4dc_dff9dccc303crow6_col3 {\n",
       "            background-color:  #3c4ec2;\n",
       "        }    #T_b02cc740_e1c2_11ea_b4dc_dff9dccc303crow6_col4 {\n",
       "            background-color:  #3e51c5;\n",
       "        }    #T_b02cc740_e1c2_11ea_b4dc_dff9dccc303crow6_col5 {\n",
       "            background-color:  #3d50c3;\n",
       "        }    #T_b02cc740_e1c2_11ea_b4dc_dff9dccc303crow6_col6 {\n",
       "            background-color:  #b40426;\n",
       "        }</style>  \n",
       "<table id=\"T_b02cc740_e1c2_11ea_b4dc_dff9dccc303c\" > \n",
       "<thead>    <tr> \n",
       "        <th class=\"blank level0\" ></th> \n",
       "        <th class=\"col_heading level0 col0\" >gx</th> \n",
       "        <th class=\"col_heading level0 col1\" >gy</th> \n",
       "        <th class=\"col_heading level0 col2\" >gz</th> \n",
       "        <th class=\"col_heading level0 col3\" >ax</th> \n",
       "        <th class=\"col_heading level0 col4\" >ay</th> \n",
       "        <th class=\"col_heading level0 col5\" >az</th> \n",
       "        <th class=\"col_heading level0 col6\" >floor</th> \n",
       "    </tr></thead> \n",
       "<tbody>    <tr> \n",
       "        <th id=\"T_b02cc740_e1c2_11ea_b4dc_dff9dccc303clevel0_row0\" class=\"row_heading level0 row0\" >gx</th> \n",
       "        <td id=\"T_b02cc740_e1c2_11ea_b4dc_dff9dccc303crow0_col0\" class=\"data row0 col0\" >1</td> \n",
       "        <td id=\"T_b02cc740_e1c2_11ea_b4dc_dff9dccc303crow0_col1\" class=\"data row0 col1\" >-0.15</td> \n",
       "        <td id=\"T_b02cc740_e1c2_11ea_b4dc_dff9dccc303crow0_col2\" class=\"data row0 col2\" >-0.1</td> \n",
       "        <td id=\"T_b02cc740_e1c2_11ea_b4dc_dff9dccc303crow0_col3\" class=\"data row0 col3\" >0.012</td> \n",
       "        <td id=\"T_b02cc740_e1c2_11ea_b4dc_dff9dccc303crow0_col4\" class=\"data row0 col4\" >-0.061</td> \n",
       "        <td id=\"T_b02cc740_e1c2_11ea_b4dc_dff9dccc303crow0_col5\" class=\"data row0 col5\" >-0.19</td> \n",
       "        <td id=\"T_b02cc740_e1c2_11ea_b4dc_dff9dccc303crow0_col6\" class=\"data row0 col6\" >0.027</td> \n",
       "    </tr>    <tr> \n",
       "        <th id=\"T_b02cc740_e1c2_11ea_b4dc_dff9dccc303clevel0_row1\" class=\"row_heading level0 row1\" >gy</th> \n",
       "        <td id=\"T_b02cc740_e1c2_11ea_b4dc_dff9dccc303crow1_col0\" class=\"data row1 col0\" >-0.15</td> \n",
       "        <td id=\"T_b02cc740_e1c2_11ea_b4dc_dff9dccc303crow1_col1\" class=\"data row1 col1\" >1</td> \n",
       "        <td id=\"T_b02cc740_e1c2_11ea_b4dc_dff9dccc303crow1_col2\" class=\"data row1 col2\" >-0.12</td> \n",
       "        <td id=\"T_b02cc740_e1c2_11ea_b4dc_dff9dccc303crow1_col3\" class=\"data row1 col3\" >-0.042</td> \n",
       "        <td id=\"T_b02cc740_e1c2_11ea_b4dc_dff9dccc303crow1_col4\" class=\"data row1 col4\" >0.0014</td> \n",
       "        <td id=\"T_b02cc740_e1c2_11ea_b4dc_dff9dccc303crow1_col5\" class=\"data row1 col5\" >-0.072</td> \n",
       "        <td id=\"T_b02cc740_e1c2_11ea_b4dc_dff9dccc303crow1_col6\" class=\"data row1 col6\" >0.0085</td> \n",
       "    </tr>    <tr> \n",
       "        <th id=\"T_b02cc740_e1c2_11ea_b4dc_dff9dccc303clevel0_row2\" class=\"row_heading level0 row2\" >gz</th> \n",
       "        <td id=\"T_b02cc740_e1c2_11ea_b4dc_dff9dccc303crow2_col0\" class=\"data row2 col0\" >-0.1</td> \n",
       "        <td id=\"T_b02cc740_e1c2_11ea_b4dc_dff9dccc303crow2_col1\" class=\"data row2 col1\" >-0.12</td> \n",
       "        <td id=\"T_b02cc740_e1c2_11ea_b4dc_dff9dccc303crow2_col2\" class=\"data row2 col2\" >1</td> \n",
       "        <td id=\"T_b02cc740_e1c2_11ea_b4dc_dff9dccc303crow2_col3\" class=\"data row2 col3\" >0.024</td> \n",
       "        <td id=\"T_b02cc740_e1c2_11ea_b4dc_dff9dccc303crow2_col4\" class=\"data row2 col4\" >0.024</td> \n",
       "        <td id=\"T_b02cc740_e1c2_11ea_b4dc_dff9dccc303crow2_col5\" class=\"data row2 col5\" >-0.01</td> \n",
       "        <td id=\"T_b02cc740_e1c2_11ea_b4dc_dff9dccc303crow2_col6\" class=\"data row2 col6\" >-0.022</td> \n",
       "    </tr>    <tr> \n",
       "        <th id=\"T_b02cc740_e1c2_11ea_b4dc_dff9dccc303clevel0_row3\" class=\"row_heading level0 row3\" >ax</th> \n",
       "        <td id=\"T_b02cc740_e1c2_11ea_b4dc_dff9dccc303crow3_col0\" class=\"data row3 col0\" >0.012</td> \n",
       "        <td id=\"T_b02cc740_e1c2_11ea_b4dc_dff9dccc303crow3_col1\" class=\"data row3 col1\" >-0.042</td> \n",
       "        <td id=\"T_b02cc740_e1c2_11ea_b4dc_dff9dccc303crow3_col2\" class=\"data row3 col2\" >0.024</td> \n",
       "        <td id=\"T_b02cc740_e1c2_11ea_b4dc_dff9dccc303crow3_col3\" class=\"data row3 col3\" >1</td> \n",
       "        <td id=\"T_b02cc740_e1c2_11ea_b4dc_dff9dccc303crow3_col4\" class=\"data row3 col4\" >0.029</td> \n",
       "        <td id=\"T_b02cc740_e1c2_11ea_b4dc_dff9dccc303crow3_col5\" class=\"data row3 col5\" >-0.019</td> \n",
       "        <td id=\"T_b02cc740_e1c2_11ea_b4dc_dff9dccc303crow3_col6\" class=\"data row3 col6\" >-0.036</td> \n",
       "    </tr>    <tr> \n",
       "        <th id=\"T_b02cc740_e1c2_11ea_b4dc_dff9dccc303clevel0_row4\" class=\"row_heading level0 row4\" >ay</th> \n",
       "        <td id=\"T_b02cc740_e1c2_11ea_b4dc_dff9dccc303crow4_col0\" class=\"data row4 col0\" >-0.061</td> \n",
       "        <td id=\"T_b02cc740_e1c2_11ea_b4dc_dff9dccc303crow4_col1\" class=\"data row4 col1\" >0.0014</td> \n",
       "        <td id=\"T_b02cc740_e1c2_11ea_b4dc_dff9dccc303crow4_col2\" class=\"data row4 col2\" >0.024</td> \n",
       "        <td id=\"T_b02cc740_e1c2_11ea_b4dc_dff9dccc303crow4_col3\" class=\"data row4 col3\" >0.029</td> \n",
       "        <td id=\"T_b02cc740_e1c2_11ea_b4dc_dff9dccc303crow4_col4\" class=\"data row4 col4\" >1</td> \n",
       "        <td id=\"T_b02cc740_e1c2_11ea_b4dc_dff9dccc303crow4_col5\" class=\"data row4 col5\" >0.055</td> \n",
       "        <td id=\"T_b02cc740_e1c2_11ea_b4dc_dff9dccc303crow4_col6\" class=\"data row4 col6\" >-0.045</td> \n",
       "    </tr>    <tr> \n",
       "        <th id=\"T_b02cc740_e1c2_11ea_b4dc_dff9dccc303clevel0_row5\" class=\"row_heading level0 row5\" >az</th> \n",
       "        <td id=\"T_b02cc740_e1c2_11ea_b4dc_dff9dccc303crow5_col0\" class=\"data row5 col0\" >-0.19</td> \n",
       "        <td id=\"T_b02cc740_e1c2_11ea_b4dc_dff9dccc303crow5_col1\" class=\"data row5 col1\" >-0.072</td> \n",
       "        <td id=\"T_b02cc740_e1c2_11ea_b4dc_dff9dccc303crow5_col2\" class=\"data row5 col2\" >-0.01</td> \n",
       "        <td id=\"T_b02cc740_e1c2_11ea_b4dc_dff9dccc303crow5_col3\" class=\"data row5 col3\" >-0.019</td> \n",
       "        <td id=\"T_b02cc740_e1c2_11ea_b4dc_dff9dccc303crow5_col4\" class=\"data row5 col4\" >0.055</td> \n",
       "        <td id=\"T_b02cc740_e1c2_11ea_b4dc_dff9dccc303crow5_col5\" class=\"data row5 col5\" >1</td> \n",
       "        <td id=\"T_b02cc740_e1c2_11ea_b4dc_dff9dccc303crow5_col6\" class=\"data row5 col6\" >-0.18</td> \n",
       "    </tr>    <tr> \n",
       "        <th id=\"T_b02cc740_e1c2_11ea_b4dc_dff9dccc303clevel0_row6\" class=\"row_heading level0 row6\" >floor</th> \n",
       "        <td id=\"T_b02cc740_e1c2_11ea_b4dc_dff9dccc303crow6_col0\" class=\"data row6 col0\" >0.027</td> \n",
       "        <td id=\"T_b02cc740_e1c2_11ea_b4dc_dff9dccc303crow6_col1\" class=\"data row6 col1\" >0.0085</td> \n",
       "        <td id=\"T_b02cc740_e1c2_11ea_b4dc_dff9dccc303crow6_col2\" class=\"data row6 col2\" >-0.022</td> \n",
       "        <td id=\"T_b02cc740_e1c2_11ea_b4dc_dff9dccc303crow6_col3\" class=\"data row6 col3\" >-0.036</td> \n",
       "        <td id=\"T_b02cc740_e1c2_11ea_b4dc_dff9dccc303crow6_col4\" class=\"data row6 col4\" >-0.045</td> \n",
       "        <td id=\"T_b02cc740_e1c2_11ea_b4dc_dff9dccc303crow6_col5\" class=\"data row6 col5\" >-0.18</td> \n",
       "        <td id=\"T_b02cc740_e1c2_11ea_b4dc_dff9dccc303crow6_col6\" class=\"data row6 col6\" >1</td> \n",
       "    </tr></tbody> \n",
       "</table> "
      ],
      "text/plain": [
       "<pandas.io.formats.style.Styler at 0x1b726331780>"
      ]
     },
     "execution_count": 31,
     "metadata": {},
     "output_type": "execute_result"
    }
   ],
   "source": [
    "corr.style.background_gradient(cmap='coolwarm').set_precision(2)"
   ]
  },
  {
   "cell_type": "code",
   "execution_count": 32,
   "metadata": {},
   "outputs": [],
   "source": [
    "x=SelectKBest(f_classif,k=3).fit_transform(dataset.iloc[:,:-1],dataset.iloc[:,-1])"
   ]
  },
  {
   "cell_type": "code",
   "execution_count": 33,
   "metadata": {},
   "outputs": [
    {
     "data": {
      "text/plain": [
       "array([[-0.95239258, -0.87280273,  0.15356445],\n",
       "       [ 0.13769531,  0.0078125 ,  0.08911133],\n",
       "       [ 0.109375  , -1.375     , -1.18798828],\n",
       "       ...,\n",
       "       [-0.50756836, -0.80517578, -0.33203125],\n",
       "       [-0.41040039, -0.89135742, -0.140625  ],\n",
       "       [-0.42358398, -0.89086914, -0.15112305]])"
      ]
     },
     "execution_count": 33,
     "metadata": {},
     "output_type": "execute_result"
    }
   ],
   "source": [
    "x"
   ]
  },
  {
   "cell_type": "code",
   "execution_count": 34,
   "metadata": {},
   "outputs": [
    {
     "data": {
      "text/html": [
       "<div>\n",
       "<style scoped>\n",
       "    .dataframe tbody tr th:only-of-type {\n",
       "        vertical-align: middle;\n",
       "    }\n",
       "\n",
       "    .dataframe tbody tr th {\n",
       "        vertical-align: top;\n",
       "    }\n",
       "\n",
       "    .dataframe thead th {\n",
       "        text-align: right;\n",
       "    }\n",
       "</style>\n",
       "<table border=\"1\" class=\"dataframe\">\n",
       "  <thead>\n",
       "    <tr style=\"text-align: right;\">\n",
       "      <th></th>\n",
       "      <th>gx</th>\n",
       "      <th>gy</th>\n",
       "      <th>gz</th>\n",
       "      <th>ax</th>\n",
       "      <th>ay</th>\n",
       "      <th>az</th>\n",
       "      <th>floor</th>\n",
       "    </tr>\n",
       "  </thead>\n",
       "  <tbody>\n",
       "    <tr>\n",
       "      <th>0</th>\n",
       "      <td>-2.854962</td>\n",
       "      <td>3.030534</td>\n",
       "      <td>10.923664</td>\n",
       "      <td>-0.952393</td>\n",
       "      <td>-0.872803</td>\n",
       "      <td>0.153564</td>\n",
       "      <td>0</td>\n",
       "    </tr>\n",
       "    <tr>\n",
       "      <th>1</th>\n",
       "      <td>-3.656489</td>\n",
       "      <td>-11.534351</td>\n",
       "      <td>7.038168</td>\n",
       "      <td>0.137695</td>\n",
       "      <td>0.007812</td>\n",
       "      <td>0.089111</td>\n",
       "      <td>0</td>\n",
       "    </tr>\n",
       "    <tr>\n",
       "      <th>2</th>\n",
       "      <td>1.526718</td>\n",
       "      <td>1.511450</td>\n",
       "      <td>0.603053</td>\n",
       "      <td>0.109375</td>\n",
       "      <td>-1.375000</td>\n",
       "      <td>-1.187988</td>\n",
       "      <td>0</td>\n",
       "    </tr>\n",
       "  </tbody>\n",
       "</table>\n",
       "</div>"
      ],
      "text/plain": [
       "         gx         gy         gz        ax        ay        az  floor\n",
       "0 -2.854962   3.030534  10.923664 -0.952393 -0.872803  0.153564      0\n",
       "1 -3.656489 -11.534351   7.038168  0.137695  0.007812  0.089111      0\n",
       "2  1.526718   1.511450   0.603053  0.109375 -1.375000 -1.187988      0"
      ]
     },
     "execution_count": 34,
     "metadata": {},
     "output_type": "execute_result"
    }
   ],
   "source": [
    "dataset.head(3)"
   ]
  },
  {
   "cell_type": "code",
   "execution_count": 35,
   "metadata": {},
   "outputs": [],
   "source": [
    "from sklearn.model_selection import train_test_split , KFold\n",
    "x_tr,x_ts,y_tr,y_ts=train_test_split(dataset.iloc[:,3:-1],dataset.iloc[:,-1],random_state=0,test_size=0.20)"
   ]
  },
  {
   "cell_type": "code",
   "execution_count": 36,
   "metadata": {},
   "outputs": [],
   "source": [
    "from sklearn.model_selection import train_test_split , KFold\n",
    "x_trrn,x_tsrn,y_trrn,y_tsrn=train_test_split(dataset.iloc[:,:-1],dataset.iloc[:,-1],random_state=0,test_size=0.20)"
   ]
  },
  {
   "cell_type": "code",
   "execution_count": 37,
   "metadata": {},
   "outputs": [],
   "source": [
    "from sklearn.neighbors import KNeighborsClassifier"
   ]
  },
  {
   "cell_type": "code",
   "execution_count": 38,
   "metadata": {},
   "outputs": [],
   "source": [
    "knn=KNeighborsClassifier(n_neighbors=15)"
   ]
  },
  {
   "cell_type": "code",
   "execution_count": 39,
   "metadata": {},
   "outputs": [
    {
     "data": {
      "text/plain": [
       "KNeighborsClassifier(algorithm='auto', leaf_size=30, metric='minkowski',\n",
       "           metric_params=None, n_jobs=None, n_neighbors=15, p=2,\n",
       "           weights='uniform')"
      ]
     },
     "execution_count": 39,
     "metadata": {},
     "output_type": "execute_result"
    }
   ],
   "source": [
    "knn.fit(x_tr,y_tr)"
   ]
  },
  {
   "cell_type": "code",
   "execution_count": 40,
   "metadata": {},
   "outputs": [],
   "source": [
    "y_pd=knn.predict(x_ts)"
   ]
  },
  {
   "cell_type": "code",
   "execution_count": 41,
   "metadata": {},
   "outputs": [
    {
     "name": "stdout",
     "output_type": "stream",
     "text": [
      "0.5987158908507223\n",
      "              precision    recall  f1-score   support\n",
      "\n",
      "           0       0.57      0.60      0.58       219\n",
      "           1       0.69      0.77      0.73       196\n",
      "           2       0.52      0.44      0.48       208\n",
      "\n",
      "   micro avg       0.60      0.60      0.60       623\n",
      "   macro avg       0.59      0.60      0.60       623\n",
      "weighted avg       0.59      0.60      0.59       623\n",
      "\n"
     ]
    }
   ],
   "source": [
    "from sklearn.metrics import confusion_matrix,accuracy_score,classification_report\n",
    "confusion_matrix(y_ts,y_pd)\n",
    "print(accuracy_score(y_ts,y_pd))\n",
    "print(classification_report(y_ts,y_pd))"
   ]
  },
  {
   "cell_type": "code",
   "execution_count": 42,
   "metadata": {},
   "outputs": [],
   "source": [
    "from sklearn.svm import SVC"
   ]
  },
  {
   "cell_type": "code",
   "execution_count": 43,
   "metadata": {},
   "outputs": [
    {
     "name": "stderr",
     "output_type": "stream",
     "text": [
      "C:\\Users\\adars\\Documents\\anacondda\\lib\\site-packages\\sklearn\\svm\\base.py:196: FutureWarning: The default value of gamma will change from 'auto' to 'scale' in version 0.22 to account better for unscaled features. Set gamma explicitly to 'auto' or 'scale' to avoid this warning.\n",
      "  \"avoid this warning.\", FutureWarning)\n"
     ]
    },
    {
     "name": "stdout",
     "output_type": "stream",
     "text": [
      "0.6260032102728732\n",
      "              precision    recall  f1-score   support\n",
      "\n",
      "           0       0.66      0.50      0.57       219\n",
      "           1       0.73      0.78      0.75       196\n",
      "           2       0.52      0.62      0.56       208\n",
      "\n",
      "   micro avg       0.63      0.63      0.63       623\n",
      "   macro avg       0.64      0.63      0.63       623\n",
      "weighted avg       0.63      0.63      0.62       623\n",
      "\n"
     ]
    }
   ],
   "source": [
    "svc=SVC(kernel='rbf')\n",
    "svc.fit(x_tr,y_tr)\n",
    "y_pdsvc=svc.predict(x_ts)\n",
    "print(accuracy_score(y_ts,y_pdsvc))\n",
    "print(classification_report(y_ts,y_pdsvc))"
   ]
  },
  {
   "cell_type": "code",
   "execution_count": 44,
   "metadata": {},
   "outputs": [],
   "source": [
    "from sklearn.ensemble import RandomForestClassifier,VotingClassifier"
   ]
  },
  {
   "cell_type": "code",
   "execution_count": 45,
   "metadata": {},
   "outputs": [
    {
     "name": "stdout",
     "output_type": "stream",
     "text": [
      "0.6629213483146067\n",
      "              precision    recall  f1-score   support\n",
      "\n",
      "           0       0.65      0.65      0.65       219\n",
      "           1       0.82      0.78      0.80       196\n",
      "           2       0.54      0.57      0.56       208\n",
      "\n",
      "   micro avg       0.66      0.66      0.66       623\n",
      "   macro avg       0.67      0.67      0.67       623\n",
      "weighted avg       0.67      0.66      0.67       623\n",
      "\n"
     ]
    }
   ],
   "source": [
    "ranf=RandomForestClassifier(n_estimators=50,random_state=0)\n",
    "ranf.fit(x_trrn,y_trrn)\n",
    "y_predrnf=ranf.predict(x_tsrn)\n",
    "print(accuracy_score(y_tsrn,y_predrnf))\n",
    "print(classification_report(y_tsrn,y_predrnf))"
   ]
  },
  {
   "cell_type": "code",
   "execution_count": 46,
   "metadata": {},
   "outputs": [],
   "source": [
    "clf=VotingClassifier(estimators=[('rnf',ranf),('svc',svc),('knn',knn)])"
   ]
  },
  {
   "cell_type": "code",
   "execution_count": 47,
   "metadata": {},
   "outputs": [
    {
     "name": "stderr",
     "output_type": "stream",
     "text": [
      "C:\\Users\\adars\\Documents\\anacondda\\lib\\site-packages\\sklearn\\svm\\base.py:196: FutureWarning: The default value of gamma will change from 'auto' to 'scale' in version 0.22 to account better for unscaled features. Set gamma explicitly to 'auto' or 'scale' to avoid this warning.\n",
      "  \"avoid this warning.\", FutureWarning)\n"
     ]
    },
    {
     "name": "stdout",
     "output_type": "stream",
     "text": [
      "0.6324237560192616\n",
      "              precision    recall  f1-score   support\n",
      "\n",
      "           0       0.62      0.60      0.61       219\n",
      "           1       0.72      0.76      0.74       196\n",
      "           2       0.55      0.54      0.55       208\n",
      "\n",
      "   micro avg       0.63      0.63      0.63       623\n",
      "   macro avg       0.63      0.64      0.63       623\n",
      "weighted avg       0.63      0.63      0.63       623\n",
      "\n"
     ]
    }
   ],
   "source": [
    "clf.fit(x_tr,y_tr)\n",
    "y_pdvt=clf.predict(x_ts)\n",
    "print(accuracy_score(y_ts,y_pdvt))\n",
    "print(classification_report(y_ts,y_pdvt))"
   ]
  },
  {
   "cell_type": "code",
   "execution_count": 48,
   "metadata": {},
   "outputs": [
    {
     "data": {
      "text/plain": [
       "3114"
      ]
     },
     "execution_count": 48,
     "metadata": {},
     "output_type": "execute_result"
    }
   ],
   "source": [
    "len(dataset)"
   ]
  },
  {
   "cell_type": "code",
   "execution_count": 49,
   "metadata": {},
   "outputs": [],
   "source": [
    "kf=KFold(n_splits=10,random_state=0)"
   ]
  },
  {
   "cell_type": "code",
   "execution_count": 50,
   "metadata": {},
   "outputs": [
    {
     "name": "stdout",
     "output_type": "stream",
     "text": [
      "0.36538461538461536 312 3113 test 0 311\n",
      "0.4198717948717949 0 3113 test 312 623\n",
      "0.4551282051282051 0 3113 test 624 935\n",
      "0.4519230769230769 0 3113 test 936 1247\n",
      "0.3086816720257235 0 3113 test 1248 1558\n",
      "0.2990353697749196 0 3113 test 1559 1869\n",
      "0.5369774919614148 0 3113 test 1870 2180\n",
      "0.842443729903537 0 3113 test 2181 2491\n",
      "0.8263665594855305 0 3113 test 2492 2802\n",
      "0.41479099678456594 0 2802 test 2803 3113\n"
     ]
    }
   ],
   "source": [
    "for train_i , test_i in kf.split(x):\n",
    "    #FOR KNN\n",
    "    knn.fit(x[train_i,:],dataset.iloc[train_i,-1])\n",
    "    y_predictknn=knn.predict(x[test_i,:])\n",
    "    print(accuracy_score(dataset.iloc[test_i,-1],y_predictknn),train_i[0],train_i[-1],'test',test_i[0],test_i[-1])"
   ]
  },
  {
   "cell_type": "code",
   "execution_count": 51,
   "metadata": {},
   "outputs": [
    {
     "data": {
      "text/plain": [
       "3114"
      ]
     },
     "execution_count": 51,
     "metadata": {},
     "output_type": "execute_result"
    }
   ],
   "source": [
    "len(dataset)"
   ]
  },
  {
   "cell_type": "code",
   "execution_count": 52,
   "metadata": {},
   "outputs": [],
   "source": [
    "kn=list()\n",
    "svm=list()\n",
    "rn=list()\n",
    "vt=list()\n",
    "rnf=RandomForestClassifier(n_estimators=50,random_state=0)"
   ]
  },
  {
   "cell_type": "code",
   "execution_count": 53,
   "metadata": {},
   "outputs": [
    {
     "name": "stderr",
     "output_type": "stream",
     "text": [
      "C:\\Users\\adars\\Documents\\anacondda\\lib\\site-packages\\sklearn\\svm\\base.py:196: FutureWarning: The default value of gamma will change from 'auto' to 'scale' in version 0.22 to account better for unscaled features. Set gamma explicitly to 'auto' or 'scale' to avoid this warning.\n",
      "  \"avoid this warning.\", FutureWarning)\n",
      "C:\\Users\\adars\\Documents\\anacondda\\lib\\site-packages\\sklearn\\svm\\base.py:196: FutureWarning: The default value of gamma will change from 'auto' to 'scale' in version 0.22 to account better for unscaled features. Set gamma explicitly to 'auto' or 'scale' to avoid this warning.\n",
      "  \"avoid this warning.\", FutureWarning)\n",
      "C:\\Users\\adars\\Documents\\anacondda\\lib\\site-packages\\sklearn\\svm\\base.py:196: FutureWarning: The default value of gamma will change from 'auto' to 'scale' in version 0.22 to account better for unscaled features. Set gamma explicitly to 'auto' or 'scale' to avoid this warning.\n",
      "  \"avoid this warning.\", FutureWarning)\n",
      "C:\\Users\\adars\\Documents\\anacondda\\lib\\site-packages\\sklearn\\svm\\base.py:196: FutureWarning: The default value of gamma will change from 'auto' to 'scale' in version 0.22 to account better for unscaled features. Set gamma explicitly to 'auto' or 'scale' to avoid this warning.\n",
      "  \"avoid this warning.\", FutureWarning)\n",
      "C:\\Users\\adars\\Documents\\anacondda\\lib\\site-packages\\sklearn\\svm\\base.py:196: FutureWarning: The default value of gamma will change from 'auto' to 'scale' in version 0.22 to account better for unscaled features. Set gamma explicitly to 'auto' or 'scale' to avoid this warning.\n",
      "  \"avoid this warning.\", FutureWarning)\n",
      "C:\\Users\\adars\\Documents\\anacondda\\lib\\site-packages\\sklearn\\svm\\base.py:196: FutureWarning: The default value of gamma will change from 'auto' to 'scale' in version 0.22 to account better for unscaled features. Set gamma explicitly to 'auto' or 'scale' to avoid this warning.\n",
      "  \"avoid this warning.\", FutureWarning)\n",
      "C:\\Users\\adars\\Documents\\anacondda\\lib\\site-packages\\sklearn\\svm\\base.py:196: FutureWarning: The default value of gamma will change from 'auto' to 'scale' in version 0.22 to account better for unscaled features. Set gamma explicitly to 'auto' or 'scale' to avoid this warning.\n",
      "  \"avoid this warning.\", FutureWarning)\n",
      "C:\\Users\\adars\\Documents\\anacondda\\lib\\site-packages\\sklearn\\svm\\base.py:196: FutureWarning: The default value of gamma will change from 'auto' to 'scale' in version 0.22 to account better for unscaled features. Set gamma explicitly to 'auto' or 'scale' to avoid this warning.\n",
      "  \"avoid this warning.\", FutureWarning)\n",
      "C:\\Users\\adars\\Documents\\anacondda\\lib\\site-packages\\sklearn\\svm\\base.py:196: FutureWarning: The default value of gamma will change from 'auto' to 'scale' in version 0.22 to account better for unscaled features. Set gamma explicitly to 'auto' or 'scale' to avoid this warning.\n",
      "  \"avoid this warning.\", FutureWarning)\n",
      "C:\\Users\\adars\\Documents\\anacondda\\lib\\site-packages\\sklearn\\svm\\base.py:196: FutureWarning: The default value of gamma will change from 'auto' to 'scale' in version 0.22 to account better for unscaled features. Set gamma explicitly to 'auto' or 'scale' to avoid this warning.\n",
      "  \"avoid this warning.\", FutureWarning)\n",
      "C:\\Users\\adars\\Documents\\anacondda\\lib\\site-packages\\sklearn\\svm\\base.py:196: FutureWarning: The default value of gamma will change from 'auto' to 'scale' in version 0.22 to account better for unscaled features. Set gamma explicitly to 'auto' or 'scale' to avoid this warning.\n",
      "  \"avoid this warning.\", FutureWarning)\n",
      "C:\\Users\\adars\\Documents\\anacondda\\lib\\site-packages\\sklearn\\svm\\base.py:196: FutureWarning: The default value of gamma will change from 'auto' to 'scale' in version 0.22 to account better for unscaled features. Set gamma explicitly to 'auto' or 'scale' to avoid this warning.\n",
      "  \"avoid this warning.\", FutureWarning)\n",
      "C:\\Users\\adars\\Documents\\anacondda\\lib\\site-packages\\sklearn\\svm\\base.py:196: FutureWarning: The default value of gamma will change from 'auto' to 'scale' in version 0.22 to account better for unscaled features. Set gamma explicitly to 'auto' or 'scale' to avoid this warning.\n",
      "  \"avoid this warning.\", FutureWarning)\n",
      "C:\\Users\\adars\\Documents\\anacondda\\lib\\site-packages\\sklearn\\svm\\base.py:196: FutureWarning: The default value of gamma will change from 'auto' to 'scale' in version 0.22 to account better for unscaled features. Set gamma explicitly to 'auto' or 'scale' to avoid this warning.\n",
      "  \"avoid this warning.\", FutureWarning)\n",
      "C:\\Users\\adars\\Documents\\anacondda\\lib\\site-packages\\sklearn\\svm\\base.py:196: FutureWarning: The default value of gamma will change from 'auto' to 'scale' in version 0.22 to account better for unscaled features. Set gamma explicitly to 'auto' or 'scale' to avoid this warning.\n",
      "  \"avoid this warning.\", FutureWarning)\n",
      "C:\\Users\\adars\\Documents\\anacondda\\lib\\site-packages\\sklearn\\svm\\base.py:196: FutureWarning: The default value of gamma will change from 'auto' to 'scale' in version 0.22 to account better for unscaled features. Set gamma explicitly to 'auto' or 'scale' to avoid this warning.\n",
      "  \"avoid this warning.\", FutureWarning)\n",
      "C:\\Users\\adars\\Documents\\anacondda\\lib\\site-packages\\sklearn\\svm\\base.py:196: FutureWarning: The default value of gamma will change from 'auto' to 'scale' in version 0.22 to account better for unscaled features. Set gamma explicitly to 'auto' or 'scale' to avoid this warning.\n",
      "  \"avoid this warning.\", FutureWarning)\n",
      "C:\\Users\\adars\\Documents\\anacondda\\lib\\site-packages\\sklearn\\svm\\base.py:196: FutureWarning: The default value of gamma will change from 'auto' to 'scale' in version 0.22 to account better for unscaled features. Set gamma explicitly to 'auto' or 'scale' to avoid this warning.\n",
      "  \"avoid this warning.\", FutureWarning)\n",
      "C:\\Users\\adars\\Documents\\anacondda\\lib\\site-packages\\sklearn\\svm\\base.py:196: FutureWarning: The default value of gamma will change from 'auto' to 'scale' in version 0.22 to account better for unscaled features. Set gamma explicitly to 'auto' or 'scale' to avoid this warning.\n",
      "  \"avoid this warning.\", FutureWarning)\n",
      "C:\\Users\\adars\\Documents\\anacondda\\lib\\site-packages\\sklearn\\svm\\base.py:196: FutureWarning: The default value of gamma will change from 'auto' to 'scale' in version 0.22 to account better for unscaled features. Set gamma explicitly to 'auto' or 'scale' to avoid this warning.\n",
      "  \"avoid this warning.\", FutureWarning)\n"
     ]
    }
   ],
   "source": [
    "for train_i , test_i in kf.split(x):\n",
    "    #FOR KNN\n",
    "    knn.fit(x[train_i,:],dataset.iloc[train_i,-1])\n",
    "    y_predictknn=knn.predict(x[test_i,:])\n",
    "    kn.append(accuracy_score(dataset.iloc[test_i,-1],y_predictknn))\n",
    "    #FOR SVM\n",
    "    svc.fit(x[train_i,:],dataset.iloc[train_i,-1])\n",
    "    y_predictsvc=svc.predict(x[test_i,:])\n",
    "    svm.append(accuracy_score(dataset.iloc[test_i,-1],y_predictsvc))\n",
    "    #FOR RNF\n",
    "    rnf.fit(x[train_i,:],dataset.iloc[train_i,-1])\n",
    "    y_predictrnf=rnf.predict(x[test_i,:])\n",
    "    rn.append(accuracy_score(dataset.iloc[test_i,-1],y_predictrnf))\n",
    "    #FOR VOTING CLASSIFIER\n",
    "    clf.fit(x[train_i,:],dataset.iloc[train_i,-1])\n",
    "    y_predictclf=clf.predict(x[test_i,:])\n",
    "    vt.append(accuracy_score(dataset.iloc[test_i,-1],y_predictclf))\n",
    "    "
   ]
  },
  {
   "cell_type": "code",
   "execution_count": 54,
   "metadata": {},
   "outputs": [],
   "source": [
    "import numpy as np"
   ]
  },
  {
   "cell_type": "code",
   "execution_count": 55,
   "metadata": {},
   "outputs": [
    {
     "name": "stdout",
     "output_type": "stream",
     "text": [
      "KNN ACCURACY: 0.49206035122433833\n",
      "SVC ACCURACY: 0.41248454118229044\n",
      "RNF ACCURACY: 0.49334858603347354\n",
      "CLF ACCURACY: 0.4676683980542502\n"
     ]
    }
   ],
   "source": [
    "print('KNN ACCURACY:',np.mean(kn))\n",
    "print('SVC ACCURACY:',np.mean(svm))\n",
    "print('RNF ACCURACY:',np.mean(rn))\n",
    "print('CLF ACCURACY:',np.mean(vt))"
   ]
  },
  {
   "cell_type": "code",
   "execution_count": null,
   "metadata": {},
   "outputs": [],
   "source": [
    "inputs=list()\n",
    "inputs.append(float(input('Enter the orientation along X axis:')))\n",
    "inputs.append(float(input('Enter the orientation along Y axis:')))\n",
    "inputs.append(float(input('Enter the orientation along Z axis:')))\n",
    "inputs.append(float(input('Enter the acceleration along X axis:')))\n",
    "inputs.append(float(input('Enter the acceleration along Y axis:')))\n",
    "inputs.append(float(input('Enter the acceleration along Z axis:')))\n",
    "youtput=ranf.predict([inputs])\n",
    "print('The Floor Type is: ',lb.inverse_transform(youtput)[0])"
   ]
  },
  {
   "cell_type": "code",
   "execution_count": null,
   "metadata": {},
   "outputs": [],
   "source": []
  },
  {
   "cell_type": "code",
   "execution_count": null,
   "metadata": {},
   "outputs": [],
   "source": []
  }
 ],
 "metadata": {
  "kernelspec": {
   "display_name": "Python 3",
   "language": "python",
   "name": "python3"
  },
  "language_info": {
   "codemirror_mode": {
    "name": "ipython",
    "version": 3
   },
   "file_extension": ".py",
   "mimetype": "text/x-python",
   "name": "python",
   "nbconvert_exporter": "python",
   "pygments_lexer": "ipython3",
   "version": "3.7.0"
  }
 },
 "nbformat": 4,
 "nbformat_minor": 2
}
